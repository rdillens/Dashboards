{
 "cells": [
  {
   "cell_type": "markdown",
   "metadata": {},
   "source": [
    "# Alpaca Broker API Dashboard"
   ]
  },
  {
   "cell_type": "markdown",
   "metadata": {},
   "source": [
    "### Set Logging Level"
   ]
  },
  {
   "cell_type": "code",
   "execution_count": 1,
   "metadata": {},
   "outputs": [],
   "source": [
    "import logging\n",
    "logging.basicConfig(level=logging.INFO)"
   ]
  },
  {
   "cell_type": "markdown",
   "metadata": {},
   "source": [
    "### Import Libraries"
   ]
  },
  {
   "cell_type": "code",
   "execution_count": 2,
   "metadata": {},
   "outputs": [
    {
     "name": "stderr",
     "output_type": "stream",
     "text": [
      "INFO:numexpr.utils:Note: NumExpr detected 16 cores but \"NUMEXPR_MAX_THREADS\" not set, so enforcing safe limit of 8.\n",
      "INFO:numexpr.utils:NumExpr defaulting to 8 threads.\n"
     ]
    }
   ],
   "source": [
    "import ipywidgets as widgets\n",
    "from IPython.display import clear_output\n",
    "\n",
    "import datetime as dt\n",
    "\n",
    "import pandas as pd\n",
    "import json\n",
    "\n",
    "from utils import filters\n",
    "from utils import api_hooks as ah\n",
    "from utils import nb_funcs as nb\n",
    "import broker_app as ab"
   ]
  },
  {
   "cell_type": "markdown",
   "metadata": {},
   "source": [
    "### Constants"
   ]
  },
  {
   "cell_type": "code",
   "execution_count": null,
   "metadata": {},
   "outputs": [],
   "source": [
    "timeframe_scale_dict = {\n",
    "    'Min': range(1, 60),\n",
    "    'Hour': range(1, 24),\n",
    "    'Day': [1],\n",
    "    'Week': [1],\n",
    "    'Month': range(1, 13) \n",
    "}"
   ]
  },
  {
   "cell_type": "markdown",
   "metadata": {},
   "source": [
    "## Set Output Window"
   ]
  },
  {
   "cell_type": "code",
   "execution_count": 3,
   "metadata": {},
   "outputs": [],
   "source": [
    "out = widgets.Output(layout={'border': '1px solid black'})"
   ]
  },
  {
   "cell_type": "markdown",
   "metadata": {},
   "source": [
    "### Create Widgets"
   ]
  },
  {
   "cell_type": "code",
   "execution_count": 4,
   "metadata": {},
   "outputs": [],
   "source": [
    "class_dropdown = widgets.Dropdown(\n",
    "    options=[],\n",
    "    description='Asset Class:',\n",
    "    disabled=False,\n",
    ")"
   ]
  },
  {
   "cell_type": "code",
   "execution_count": 5,
   "metadata": {},
   "outputs": [],
   "source": [
    "exchange_dropdown = widgets.Dropdown(\n",
    "    options=[],\n",
    "    description='Exchange:',\n",
    "    disabled=False,\n",
    ")"
   ]
  },
  {
   "cell_type": "code",
   "execution_count": 6,
   "metadata": {},
   "outputs": [],
   "source": [
    "asset_dropdown = widgets.Dropdown(\n",
    "    options=[],\n",
    "    description='Symbol:',\n",
    "    disabled=False,\n",
    ")"
   ]
  },
  {
   "cell_type": "code",
   "execution_count": 7,
   "metadata": {},
   "outputs": [],
   "source": [
    "timeframe_scale_dropdown = widgets.Dropdown(options=[], description='Timeframe')"
   ]
  },
  {
   "cell_type": "code",
   "execution_count": 8,
   "metadata": {},
   "outputs": [],
   "source": [
    "timeframe_unit_dropdown = widgets.Dropdown()"
   ]
  },
  {
   "cell_type": "code",
   "execution_count": 9,
   "metadata": {},
   "outputs": [],
   "source": [
    "start_date_picker = widgets.DatePicker(description='Start')\n"
   ]
  },
  {
   "cell_type": "code",
   "execution_count": 10,
   "metadata": {},
   "outputs": [],
   "source": [
    "timeframe_panel = widgets.HBox([timeframe_scale_dropdown, timeframe_unit_dropdown, start_date_picker])"
   ]
  },
  {
   "cell_type": "code",
   "execution_count": 11,
   "metadata": {},
   "outputs": [],
   "source": [
    "asset_menu = widgets.HBox([class_dropdown, exchange_dropdown, asset_dropdown])"
   ]
  },
  {
   "cell_type": "markdown",
   "metadata": {},
   "source": [
    "### Set Event Handlers"
   ]
  },
  {
   "cell_type": "code",
   "execution_count": 12,
   "metadata": {},
   "outputs": [],
   "source": [
    "def set_exchanges(change):\n",
    "    exchange_dropdown.options = filters.filter_exchanges(change['new'])\n",
    "\n",
    "class_dropdown.observe(set_exchanges, names='value')"
   ]
  },
  {
   "cell_type": "code",
   "execution_count": 14,
   "metadata": {},
   "outputs": [],
   "source": [
    "def set_assets(change):\n",
    "    asset_dropdown.options = filters.filter_assets(change['new'])\n",
    "    \n",
    "exchange_dropdown.observe(set_assets, names='value')"
   ]
  },
  {
   "cell_type": "code",
   "execution_count": 18,
   "metadata": {},
   "outputs": [],
   "source": [
    "def set_timeframe_scale(change):\n",
    "    timeframe_scale_dropdown.options = timeframe_scale_dict[change['new']]\n",
    "\n",
    "timeframe_unit_dropdown.observe(set_timeframe_scale, names='value')"
   ]
  },
  {
   "cell_type": "markdown",
   "metadata": {},
   "source": [
    "### Set Widget Values"
   ]
  },
  {
   "cell_type": "code",
   "execution_count": 16,
   "metadata": {},
   "outputs": [],
   "source": [
    "class_dropdown.options = ab.class_list\n",
    "class_dropdown.value = 'us_equity'"
   ]
  },
  {
   "cell_type": "code",
   "execution_count": null,
   "metadata": {},
   "outputs": [],
   "source": [
    "timeframe_unit_dropdown.options = timeframe_scale_dict.keys()"
   ]
  },
  {
   "cell_type": "code",
   "execution_count": null,
   "metadata": {},
   "outputs": [],
   "source": [
    "start_date_picker.value = dt.datetime.now().date()"
   ]
  },
  {
   "cell_type": "code",
   "execution_count": 20,
   "metadata": {},
   "outputs": [],
   "source": [
    "def show_asset_detail(asset, timeframe_scale, timeframe_unit):\n",
    "    timeframe = f\"{timeframe_scale}{timeframe_unit}\"\n",
    "    asset_name = filters.get_asset_name(asset)\n",
    "    asset_details = filters.get_asset_by_symbol(asset)\n",
    "    start_date = start_date_picker.value.isoformat()\n",
    "    bars = ah.get_bars(asset, timeframe=timeframe, start=start_date)\n",
    "    try:\n",
    "        display(bars['next_page_token'])\n",
    "        bars_df = pd.DataFrame(bars['bars'])\n",
    "        bars_df.set_index('t')\n",
    "    except Exception as e:\n",
    "        display(e)\n",
    "    else:\n",
    "        display(asset_name, bars_df.head())\n"
   ]
  },
  {
   "cell_type": "code",
   "execution_count": 21,
   "metadata": {},
   "outputs": [],
   "source": [
    "asset_detail_panel = widgets.interactive_output(\n",
    "    show_asset_detail,\n",
    "    {\n",
    "        'asset': asset_dropdown,\n",
    "        'timeframe_scale': timeframe_scale_dropdown,\n",
    "        'timeframe_unit': timeframe_unit_dropdown,\n",
    "    }\n",
    ")"
   ]
  },
  {
   "cell_type": "code",
   "execution_count": 22,
   "metadata": {},
   "outputs": [],
   "source": [
    "with out:\n",
    "    display(asset_menu)\n",
    "    display(timeframe_panel)\n",
    "    display(asset_detail_panel)"
   ]
  },
  {
   "cell_type": "code",
   "execution_count": 23,
   "metadata": {},
   "outputs": [
    {
     "data": {
      "application/vnd.jupyter.widget-view+json": {
       "model_id": "ac9fbbafa2764aa694357425c8669802",
       "version_major": 2,
       "version_minor": 0
      },
      "text/plain": [
       "Output(layout=Layout(border='1px solid black'), outputs=({'output_type': 'display_data', 'data': {'text/plain'…"
      ]
     },
     "metadata": {},
     "output_type": "display_data"
    }
   ],
   "source": [
    "out"
   ]
  }
 ],
 "metadata": {
  "kernelspec": {
   "display_name": "Python 3.8.13 ('base')",
   "language": "python",
   "name": "python3"
  },
  "language_info": {
   "codemirror_mode": {
    "name": "ipython",
    "version": 3
   },
   "file_extension": ".py",
   "mimetype": "text/x-python",
   "name": "python",
   "nbconvert_exporter": "python",
   "pygments_lexer": "ipython3",
   "version": "3.8.13"
  },
  "orig_nbformat": 4,
  "vscode": {
   "interpreter": {
    "hash": "dc18f3ca76f685144b17936071a1ea4587f226bebaf5844893eb697afb4deb31"
   }
  }
 },
 "nbformat": 4,
 "nbformat_minor": 2
}
