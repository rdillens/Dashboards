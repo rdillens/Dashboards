{
 "cells": [
  {
   "cell_type": "code",
   "execution_count": 58,
   "metadata": {},
   "outputs": [],
   "source": [
    "import ipywidgets as widgets\n",
    "\n",
    "import pandas as pd\n",
    "import json\n",
    "\n",
    "\n",
    "import broker_app as ab"
   ]
  },
  {
   "cell_type": "code",
   "execution_count": 75,
   "metadata": {},
   "outputs": [
    {
     "name": "stderr",
     "output_type": "stream",
     "text": [
      "INFO:root:test info debug message\n",
      "DEBUG:root:test debug message\n"
     ]
    }
   ],
   "source": [
    "import logging\n",
    "logging.basicConfig(level=logging.WARNING)\n"
   ]
  },
  {
   "cell_type": "code",
   "execution_count": 62,
   "metadata": {},
   "outputs": [
    {
     "data": {
      "application/vnd.jupyter.widget-view+json": {
       "model_id": "0e00adf199b84c2192003586d59545dd",
       "version_major": 2,
       "version_minor": 0
      },
      "text/plain": [
       "Output(layout=Layout(border='1px solid black'))"
      ]
     },
     "metadata": {},
     "output_type": "display_data"
    }
   ],
   "source": [
    "out = widgets.Output(layout={'border': '1px solid black'})\n",
    "out"
   ]
  },
  {
   "cell_type": "code",
   "execution_count": 63,
   "metadata": {},
   "outputs": [],
   "source": [
    "class_list = sorted(list(set([asset[\"class\"] for asset in ab.assets])))\n"
   ]
  },
  {
   "cell_type": "code",
   "execution_count": 64,
   "metadata": {},
   "outputs": [],
   "source": [
    "class_dropdown = widgets.Dropdown(\n",
    "    options=class_list,\n",
    "    value=class_list[0],\n",
    "    description='Asset Class:',\n",
    "    disabled=False,\n",
    ")\n"
   ]
  },
  {
   "cell_type": "code",
   "execution_count": 65,
   "metadata": {},
   "outputs": [],
   "source": [
    "status_list = sorted(list(set([asset[\"status\"] for asset in ab.assets])))"
   ]
  },
  {
   "cell_type": "code",
   "execution_count": 66,
   "metadata": {},
   "outputs": [],
   "source": [
    "checkbox_dict = {}\n",
    "checkbox_dict[\"status\"] = widgets.Checkbox(value=True, description=\"Active\")\n",
    "checkbox_dict[\"tradable\"] = widgets.Checkbox(value=True, description=\"Tradable\")\n",
    "checkbox_dict[\"marginable\"] = widgets.Checkbox(value=False, description=\"Marginable\")\n",
    "checkbox_dict[\"shortable\"] = widgets.Checkbox(value=False, description=\"Shortable\")\n",
    "checkbox_dict[\"easy_to_borrow\"] = widgets.Checkbox(value=False, description=\"Easy to Borrow\")\n",
    "checkbox_dict[\"fractionable\"] = widgets.Checkbox(value=False, description=\"Fractionable\")\n"
   ]
  },
  {
   "cell_type": "code",
   "execution_count": 67,
   "metadata": {},
   "outputs": [],
   "source": [
    "checkbox_panel = widgets.VBox(\n",
    "    [\n",
    "        widgets.HBox([checkbox_dict[\"status\"], checkbox_dict[\"tradable\"]]),\n",
    "        # widgets.HBox([checkbox_dict[\"marginable\"], checkbox_dict[\"shortable\"]]),\n",
    "        # widgets.HBox([checkbox_dict[\"easy_to_borrow\"], checkbox_dict[\"fractionable\"]]),\n",
    "    ]\n",
    ")"
   ]
  },
  {
   "cell_type": "code",
   "execution_count": 68,
   "metadata": {},
   "outputs": [],
   "source": [
    "filtered_exchange_dropdown = widgets.Dropdown(\n",
    "    options=[],\n",
    "    description='Exchange:',\n",
    "    disabled=False,\n",
    ")\n"
   ]
  },
  {
   "cell_type": "code",
   "execution_count": 69,
   "metadata": {},
   "outputs": [],
   "source": [
    "def filter_exchanges(a):\n",
    "    filtered_exchange_dropdown.options = sorted(list(set([asset[\"exchange\"] for asset in ab.assets if asset[\"class\"] == a])))\n",
    "\n",
    "    display(widgets.VBox([class_dropdown, filtered_exchange_dropdown]))\n",
    "\n",
    "interactive_out = widgets.interactive_output(\n",
    "    filter_exchanges,\n",
    "    {\n",
    "        'a': class_dropdown\n",
    "    }\n",
    ")\n",
    " "
   ]
  },
  {
   "cell_type": "code",
   "execution_count": 70,
   "metadata": {},
   "outputs": [],
   "source": [
    "filtered_asset_dropdown = widgets.Dropdown(\n",
    "    options=[],\n",
    "    description='Symbol:',\n",
    "    disabled=False,\n",
    ")\n"
   ]
  },
  {
   "cell_type": "code",
   "execution_count": 71,
   "metadata": {},
   "outputs": [],
   "source": [
    "def filter_assets(exchange):\n",
    "    filtered_asset_list = sorted(list(set(\n",
    "        [\n",
    "            f\"{asset['symbol']:12}{asset['name']}\" for asset in ab.assets \n",
    "            if asset[\"exchange\"] == exchange\n",
    "        ]\n",
    "    )))\n",
    "    filtered_asset_dropdown.options = filtered_asset_list\n",
    "    # display(filtered_asset_dropdown)\n"
   ]
  },
  {
   "cell_type": "code",
   "execution_count": 72,
   "metadata": {},
   "outputs": [],
   "source": [
    "filtered_asset_menu_panel = widgets.interactive_output(\n",
    "    filter_assets,\n",
    "    {\n",
    "        'exchange': filtered_exchange_dropdown,\n",
    "    }\n",
    ")"
   ]
  },
  {
   "cell_type": "code",
   "execution_count": 73,
   "metadata": {},
   "outputs": [],
   "source": [
    "with out:\n",
    "    display(filtered_asset_dropdown, filtered_asset_menu_panel, interactive_out)"
   ]
  },
  {
   "cell_type": "code",
   "execution_count": 74,
   "metadata": {},
   "outputs": [
    {
     "data": {
      "application/vnd.jupyter.widget-view+json": {
       "model_id": "0e00adf199b84c2192003586d59545dd",
       "version_major": 2,
       "version_minor": 0
      },
      "text/plain": [
       "Output(layout=Layout(border='1px solid black'), outputs=({'output_type': 'display_data', 'data': {'text/plain'…"
      ]
     },
     "metadata": {},
     "output_type": "display_data"
    }
   ],
   "source": [
    "display(out)"
   ]
  }
 ],
 "metadata": {
  "kernelspec": {
   "display_name": "Python 3.8.13 ('base')",
   "language": "python",
   "name": "python3"
  },
  "language_info": {
   "codemirror_mode": {
    "name": "ipython",
    "version": 3
   },
   "file_extension": ".py",
   "mimetype": "text/x-python",
   "name": "python",
   "nbconvert_exporter": "python",
   "pygments_lexer": "ipython3",
   "version": "3.8.13"
  },
  "orig_nbformat": 4,
  "vscode": {
   "interpreter": {
    "hash": "dc18f3ca76f685144b17936071a1ea4587f226bebaf5844893eb697afb4deb31"
   }
  }
 },
 "nbformat": 4,
 "nbformat_minor": 2
}
