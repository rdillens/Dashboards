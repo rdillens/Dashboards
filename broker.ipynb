{
 "cells": [
  {
   "cell_type": "code",
   "execution_count": 1,
   "metadata": {},
   "outputs": [],
   "source": [
    "import logging\n",
    "logging.basicConfig(level=logging.DEBUG)"
   ]
  },
  {
   "cell_type": "code",
   "execution_count": 2,
   "metadata": {},
   "outputs": [
    {
     "name": "stderr",
     "output_type": "stream",
     "text": [
      "INFO:numexpr.utils:Note: NumExpr detected 16 cores but \"NUMEXPR_MAX_THREADS\" not set, so enforcing safe limit of 8.\n",
      "INFO:numexpr.utils:NumExpr defaulting to 8 threads.\n",
      "DEBUG:root:key type: <class 'str'>\n",
      "DEBUG:root:secret type: <class 'str'>\n",
      "DEBUG:root:https://broker-api.sandbox.alpaca.markets/v1/assets\n",
      "DEBUG:urllib3.connectionpool:Starting new HTTPS connection (1): broker-api.sandbox.alpaca.markets:443\n",
      "DEBUG:urllib3.connectionpool:https://broker-api.sandbox.alpaca.markets:443 \"GET /v1/assets HTTP/1.1\" 200 None\n"
     ]
    }
   ],
   "source": [
    "import ipywidgets as widgets\n",
    "\n",
    "import pandas as pd\n",
    "import json\n",
    "\n",
    "from utils import filters\n",
    "import broker_app as ab"
   ]
  },
  {
   "cell_type": "code",
   "execution_count": 3,
   "metadata": {},
   "outputs": [
    {
     "data": {
      "application/vnd.jupyter.widget-view+json": {
       "model_id": "2367bce4ab604adca0207c300dc1be29",
       "version_major": 2,
       "version_minor": 0
      },
      "text/plain": [
       "Output(layout=Layout(border='1px solid black'))"
      ]
     },
     "metadata": {},
     "output_type": "display_data"
    }
   ],
   "source": [
    "out = widgets.Output(layout={'border': '1px solid black'})\n",
    "out"
   ]
  },
  {
   "cell_type": "code",
   "execution_count": 4,
   "metadata": {},
   "outputs": [],
   "source": [
    "class_dropdown = widgets.Dropdown(\n",
    "    options=[],\n",
    "    description='Asset Class:',\n",
    "    disabled=False,\n",
    ")"
   ]
  },
  {
   "cell_type": "code",
   "execution_count": 5,
   "metadata": {},
   "outputs": [],
   "source": [
    "exchange_dropdown = widgets.Dropdown(\n",
    "    options=[],\n",
    "    description='Exchange:',\n",
    "    disabled=False,\n",
    ")"
   ]
  },
  {
   "cell_type": "code",
   "execution_count": 6,
   "metadata": {},
   "outputs": [],
   "source": [
    "asset_dropdown = widgets.Dropdown(\n",
    "    options=[],\n",
    "    description='Symbol:',\n",
    "    disabled=False,\n",
    ")"
   ]
  },
  {
   "cell_type": "code",
   "execution_count": 7,
   "metadata": {},
   "outputs": [],
   "source": [
    "def filter_exchanges(filter):\n",
    "    return sorted(list(set([\n",
    "        asset[\"exchange\"] for asset in ab.assets if asset[\"class\"] == filter\n",
    "    ])))"
   ]
  },
  {
   "cell_type": "code",
   "execution_count": 8,
   "metadata": {},
   "outputs": [],
   "source": [
    "def set_exchanges(change):\n",
    "    exchange_dropdown.options = filter_exchanges(change['new'])"
   ]
  },
  {
   "cell_type": "code",
   "execution_count": 9,
   "metadata": {},
   "outputs": [],
   "source": [
    "class_dropdown.observe(set_exchanges, names='value')"
   ]
  },
  {
   "cell_type": "code",
   "execution_count": 10,
   "metadata": {},
   "outputs": [],
   "source": [
    "def filter_assets(filter):\n",
    "    return sorted(list(set([\n",
    "            f\"{asset['symbol']:12}{asset['name']}\" for asset in ab.assets \n",
    "            if asset[\"exchange\"] == filter\n",
    "    ])))"
   ]
  },
  {
   "cell_type": "code",
   "execution_count": 11,
   "metadata": {},
   "outputs": [],
   "source": [
    "def set_assets(change):\n",
    "    asset_dropdown.options = filter_assets(change['new'])"
   ]
  },
  {
   "cell_type": "code",
   "execution_count": 12,
   "metadata": {},
   "outputs": [],
   "source": [
    "exchange_dropdown.observe(set_assets, names='value')"
   ]
  },
  {
   "cell_type": "code",
   "execution_count": 13,
   "metadata": {},
   "outputs": [],
   "source": [
    "class_dropdown.options = ab.class_list"
   ]
  },
  {
   "cell_type": "code",
   "execution_count": 14,
   "metadata": {},
   "outputs": [],
   "source": [
    "with out:\n",
    "    display(widgets.HBox([class_dropdown, exchange_dropdown, asset_dropdown]))"
   ]
  }
 ],
 "metadata": {
  "kernelspec": {
   "display_name": "Python 3.8.13 ('base')",
   "language": "python",
   "name": "python3"
  },
  "language_info": {
   "codemirror_mode": {
    "name": "ipython",
    "version": 3
   },
   "file_extension": ".py",
   "mimetype": "text/x-python",
   "name": "python",
   "nbconvert_exporter": "python",
   "pygments_lexer": "ipython3",
   "version": "3.8.13"
  },
  "orig_nbformat": 4,
  "vscode": {
   "interpreter": {
    "hash": "dc18f3ca76f685144b17936071a1ea4587f226bebaf5844893eb697afb4deb31"
   }
  }
 },
 "nbformat": 4,
 "nbformat_minor": 2
}
