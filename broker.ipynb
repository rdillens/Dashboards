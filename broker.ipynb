{
 "cells": [
  {
   "cell_type": "code",
   "execution_count": 12,
   "metadata": {},
   "outputs": [],
   "source": [
    "import logging\n",
    "logging.basicConfig(level=logging.DEBUG)\n"
   ]
  },
  {
   "cell_type": "code",
   "execution_count": 13,
   "metadata": {},
   "outputs": [],
   "source": [
    "import ipywidgets as widgets\n",
    "\n",
    "import pandas as pd\n",
    "import json\n",
    "\n",
    "import broker_app as ab"
   ]
  },
  {
   "cell_type": "code",
   "execution_count": 14,
   "metadata": {},
   "outputs": [
    {
     "data": {
      "application/vnd.jupyter.widget-view+json": {
       "model_id": "07d5be571e414369b61ad8143aec4060",
       "version_major": 2,
       "version_minor": 0
      },
      "text/plain": [
       "Output(layout=Layout(border='1px solid black'))"
      ]
     },
     "metadata": {},
     "output_type": "display_data"
    }
   ],
   "source": [
    "out = widgets.Output(layout={'border': '1px solid black'})\n",
    "out"
   ]
  },
  {
   "cell_type": "code",
   "execution_count": 15,
   "metadata": {},
   "outputs": [],
   "source": [
    "class_dropdown = widgets.Dropdown(\n",
    "    options=ab.class_list,\n",
    "    value=ab.class_list[0],\n",
    "    description='Asset Class:',\n",
    "    disabled=False,\n",
    ")"
   ]
  },
  {
   "cell_type": "code",
   "execution_count": 16,
   "metadata": {},
   "outputs": [],
   "source": [
    "filtered_exchange_dropdown = widgets.Dropdown(\n",
    "    options=[],\n",
    "    description='Exchange:',\n",
    "    disabled=False,\n",
    ")"
   ]
  },
  {
   "cell_type": "code",
   "execution_count": 17,
   "metadata": {},
   "outputs": [],
   "source": [
    "filtered_asset_dropdown = widgets.Dropdown(\n",
    "    options=[],\n",
    "    description='Symbol:',\n",
    "    disabled=False,\n",
    ")"
   ]
  },
  {
   "cell_type": "code",
   "execution_count": 18,
   "metadata": {},
   "outputs": [],
   "source": [
    "def filter_exchanges(a):\n",
    "    filtered_exchange_dropdown.options = sorted(list(set([asset[\"exchange\"] for asset in ab.assets if asset[\"class\"] == a])))\n",
    "\n",
    "    display(widgets.VBox([class_dropdown, filtered_exchange_dropdown]))\n",
    "\n",
    "interactive_out = widgets.interactive_output(\n",
    "    filter_exchanges,\n",
    "    {\n",
    "        'a': class_dropdown\n",
    "    }\n",
    ")"
   ]
  },
  {
   "cell_type": "code",
   "execution_count": 19,
   "metadata": {},
   "outputs": [],
   "source": [
    "def filter_assets(exchange):\n",
    "    filtered_asset_list = sorted(list(set(\n",
    "        [\n",
    "            f\"{asset['symbol']:12}{asset['name']}\" for asset in ab.assets \n",
    "            if asset[\"exchange\"] == exchange\n",
    "        ]\n",
    "    )))\n",
    "    filtered_asset_dropdown.options = filtered_asset_list"
   ]
  },
  {
   "cell_type": "code",
   "execution_count": 20,
   "metadata": {},
   "outputs": [],
   "source": [
    "filtered_asset_menu_panel = widgets.interactive_output(\n",
    "    filter_assets,\n",
    "    {\n",
    "        'exchange': filtered_exchange_dropdown,\n",
    "    }\n",
    ")"
   ]
  },
  {
   "cell_type": "code",
   "execution_count": 21,
   "metadata": {},
   "outputs": [],
   "source": [
    "with out:\n",
    "    display(widgets.HBox([filtered_asset_dropdown, filtered_asset_menu_panel, interactive_out]))"
   ]
  }
 ],
 "metadata": {
  "kernelspec": {
   "display_name": "Python 3.8.13 ('base')",
   "language": "python",
   "name": "python3"
  },
  "language_info": {
   "codemirror_mode": {
    "name": "ipython",
    "version": 3
   },
   "file_extension": ".py",
   "mimetype": "text/x-python",
   "name": "python",
   "nbconvert_exporter": "python",
   "pygments_lexer": "ipython3",
   "version": "3.8.13"
  },
  "orig_nbformat": 4,
  "vscode": {
   "interpreter": {
    "hash": "dc18f3ca76f685144b17936071a1ea4587f226bebaf5844893eb697afb4deb31"
   }
  }
 },
 "nbformat": 4,
 "nbformat_minor": 2
}
